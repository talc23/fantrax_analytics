{
  "cells": [
    {
      "metadata": {
        "_uuid": "8f2839f25d086af736a60e9eeb907d3b93b6e0e5",
        "_cell_guid": "b1076dfc-b9ad-4769-8c92-a6c4dae69d19",
        "trusted": true
      },
      "cell_type": "code",
      "source": "# This Python 3 environment comes with many helpful analytics libraries installed\n# It is defined by the kaggle/python docker image: https://github.com/kaggle/docker-python\n# For example, here's several helpful packages to load in \n\nimport numpy as np # linear algebra\nimport pandas as pd # data processing, CSV file I/O (e.g. pd.read_csv)\n\n# Input data files are available in the \"../input/\" directory.\n# For example, running this (by clicking run or pressing Shift+Enter) will list the files in the input directory\n\nimport os\nprint(os.listdir(\"../input\"))\nprint(os.listdir(\"../input/nbadates\"))\n\n# Any results you write to the current directory are saved as output.",
      "execution_count": null,
      "outputs": []
    },
    {
      "metadata": {
        "_cell_guid": "79c7e3d0-c299-4dcb-8224-4455121ee9b0",
        "_uuid": "d629ff2d2480ee46fbb7e2d37f6b5fab8052498a",
        "trusted": true
      },
      "cell_type": "code",
      "source": "players = pd.read_csv('../input/fantrax2/Fantrax-players.csv')\ndates = pd.read_csv('../input/nbadates/nba-2018-UTC-08.csv')",
      "execution_count": null,
      "outputs": []
    },
    {
      "metadata": {
        "trusted": true,
        "_uuid": "02d9835fc5a6d421dcaba34de815995bc51912c4"
      },
      "cell_type": "code",
      "source": "dates.drop(['Round Number', 'Location', 'Result'],axis=1, inplace=True)",
      "execution_count": null,
      "outputs": []
    },
    {
      "metadata": {
        "trusted": true,
        "_uuid": "1244d0df7eb0b5a85ed8ef2d3ab757e186de2b5d"
      },
      "cell_type": "code",
      "source": "dates['Date'] = dates['Date'].astype('datetime64')",
      "execution_count": null,
      "outputs": []
    },
    {
      "metadata": {
        "trusted": true,
        "scrolled": true,
        "_uuid": "95576a7a4aa0526092e837ddf3c376bf1e7e4e6b"
      },
      "cell_type": "code",
      "source": "periodGames = dates[(dates['Date'] >= pd.Timestamp(year=2018, month=10, day=16)) & (dates['Date'] <= pd.Timestamp(year=2018, month=10, day=22))]\nperiodGames",
      "execution_count": null,
      "outputs": []
    },
    {
      "metadata": {
        "trusted": true,
        "_uuid": "8d08daf53252dc286726f44a232efd9e605dcb2d"
      },
      "cell_type": "code",
      "source": "nameToAbv = {}\nnameToAbv['Hawks'] = 'ATL'\nnameToAbv['Nets'] = 'BKN'\nnameToAbv['Celtics'] = 'BOS'\nnameToAbv['Hornets'] = 'CHA'\nnameToAbv['Bulls'] = 'CHI'\nnameToAbv['Cavaliers'] = 'CLE'\nnameToAbv['Mavericks'] = 'DAL'\nnameToAbv['Nuggets'] = 'DEN'\nnameToAbv['Pistons'] = 'DET'\nnameToAbv['Warriors'] = 'GS'\nnameToAbv['Rockets'] = 'HOU'\nnameToAbv['Pacers'] = 'IND'\nnameToAbv['Clippers'] = 'LAC'\nnameToAbv['Lakers'] = 'LAL'\nnameToAbv['Grizzlies'] = 'MEM'\nnameToAbv['Heat'] = 'MIA'\nnameToAbv['Bucks'] = 'MIL'\nnameToAbv['Timberwolves'] = 'MIN'\nnameToAbv['Pelicans'] = 'NO'\nnameToAbv['Knicks'] = 'NY'\nnameToAbv['Thunder'] = 'OKC'\nnameToAbv['Magic'] = 'ORL'\nnameToAbv['76ers'] = 'PHI'\nnameToAbv['Suns'] = 'PHO'\nnameToAbv['Blazers'] = 'POR'\nnameToAbv['Kings'] = 'SAC'\nnameToAbv['Spurs'] = 'SA'\nnameToAbv['Raptors'] = 'TOR'\nnameToAbv['Jazz'] = 'UTA'\nnameToAbv['Wizards'] = 'WAS'\n\n",
      "execution_count": null,
      "outputs": []
    },
    {
      "metadata": {
        "trusted": true,
        "_uuid": "082beacb319385040be96154377830e043562f9f"
      },
      "cell_type": "code",
      "source": "\nperiodGames['Home Team'] = periodGames['Home Team'].apply(lambda x:nameToAbv[x.split()[-1:][0]])\nperiodGames['Away Team'] = periodGames['Away Team'].apply(lambda x:nameToAbv[x.split()[-1:][0]])",
      "execution_count": null,
      "outputs": []
    },
    {
      "metadata": {
        "trusted": true,
        "_uuid": "4b573f6b2805f9d1f59a4caf3c39542a304c698e"
      },
      "cell_type": "code",
      "source": "periodGames",
      "execution_count": null,
      "outputs": []
    },
    {
      "metadata": {
        "trusted": true,
        "_uuid": "942e01051df4b81ac36243adffef6b339bc135a0"
      },
      "cell_type": "code",
      "source": "playersGrouped = players[players['Status']!='FA'].groupby(by='Status',as_index=False).mean()\nplayersGrouped.drop(['Rk','GP'], axis=1,inplace=True)\nlabels = playersGrouped.columns[1:]",
      "execution_count": null,
      "outputs": []
    },
    {
      "metadata": {
        "trusted": true,
        "_uuid": "312acb111c7dd59b0fdf0315e2b4a07f379f9c16"
      },
      "cell_type": "code",
      "source": "playersGroupedNorm = playersGrouped.copy()\nfor label in labels:\n    if label.endswith('%'):\n        continue\n    playersGroupedNorm[label]-=playersGroupedNorm[label].min()\n    playersGroupedNorm[label]/=playersGroupedNorm[label].max()\n    if label == 'TO':\n        playersGroupedNorm[label]=1-playersGroupedNorm[label]\nplayersGroupedNorm.describe()",
      "execution_count": null,
      "outputs": []
    },
    {
      "metadata": {
        "trusted": true,
        "_uuid": "ec4c63351043bea3e61c272976457bae0dc7335c"
      },
      "cell_type": "code",
      "source": "periodGames.groupby('Home Team',as_index=False).count().drop('Away Team', axis=1)",
      "execution_count": null,
      "outputs": []
    },
    {
      "metadata": {
        "trusted": true,
        "_uuid": "1c41a802462a0f6df42e2f1e664610f7a58b0388"
      },
      "cell_type": "code",
      "source": "gamesPerTeam = periodGames.groupby('Home Team',as_index=False).count().drop('Away Team', axis=1)\ngamesPerTeam = gamesPerTeam.merge(periodGames.groupby('Away Team',as_index=False).count().drop('Home Team', axis=1),how='outer', left_on='Home Team', right_on='Away Team')\ngamesPerTeam['Team'] = gamesPerTeam['Home Team']\ngamesPerTeam['Team'].fillna(gamesPerTeam['Away Team'], inplace=True)\ngamesPerTeam['Date_x'].fillna(0, inplace=True)\ngamesPerTeam['Date_y'].fillna(0, inplace=True)\ngamesPerTeam.drop(['Home Team', 'Away Team'],inplace=True,axis=1)\ngamesPerTeam['Total'] = gamesPerTeam['Date_x']+gamesPerTeam['Date_y']\ngamesPerTeam.drop(['Date_x', 'Date_y'],inplace=True,axis=1)\ngamesPerTeam",
      "execution_count": null,
      "outputs": []
    },
    {
      "metadata": {
        "trusted": true,
        "_uuid": "88c0af995641d55f82702de789c8801658049a74"
      },
      "cell_type": "code",
      "source": "playersStatsFactorizedByGames = players[players['Status']!='FA'].copy()\nplayersStatsFactorizedByGames = playersStatsFactorizedByGames.merge(gamesPerTeam, how='outer', on='Team')\nplayersStatsFactorizedByGames.drop(['Rk','GP','ADP','%D','Score','Opponent'], axis=1,inplace=True)\n\ncolsToCalc = ['FG%', '3PTM', 'FT%', 'PTS',\n       'REB', 'AST', 'ST', 'BLK', 'TO']\nfor col in colsToCalc:\n    playersStatsFactorizedByGames[col + '_Fact']=playersStatsFactorizedByGames[col]*playersStatsFactorizedByGames['Total']\nplayersStatsFactorizedByGames.drop(colsToCalc, axis=1, inplace=True)\nplayersStatsFactorizedByGamesGrouped = playersStatsFactorizedByGames.groupby('Status', as_index=False).sum()\nplayersStatsFactorizedByGamesGrouped['FT%_Fact']/=playersStatsFactorizedByGamesGrouped['Total']\nplayersStatsFactorizedByGamesGrouped['FG%_Fact']/=playersStatsFactorizedByGamesGrouped['Total']\nplayersStatsFactorizedByGamesGrouped.drop('Total', axis=1, inplace=True)\nplayersStatsFactorizedByGamesGrouped.columns\n\nscale=True\nif scale:\n    labels= [ '3PTM_Fact','PTS_Fact', 'REB_Fact',\n       'AST_Fact', 'ST_Fact', 'BLK_Fact', 'TO_Fact']\n    for label in labels:\n        playersStatsFactorizedByGamesGrouped[label]-=playersStatsFactorizedByGamesGrouped[label].min()\n        playersStatsFactorizedByGamesGrouped[label]/=playersStatsFactorizedByGamesGrouped[label].max()\n        if label == 'TO':\n            playersStatsFactorizedByGamesGrouped[label]=1-playersStatsFactorizedByGamesGrouped[label]\nplayersStatsFactorizedByGamesGrouped.describe()\nplayersStatsFactorizedByGamesGrouped.head()",
      "execution_count": null,
      "outputs": []
    },
    {
      "metadata": {
        "trusted": true,
        "_uuid": "353dd7c02124eccf81b4eb950828336f7798a65a"
      },
      "cell_type": "code",
      "source": "from ipywidgets import interact, interactive, fixed, interact_manual\nimport ipywidgets as widgets\ndef f(x):\n    return x\n\nimport seaborn as sns\nimport matplotlib.pyplot as plt\n\nfrom ipywidgets import Checkbox, interactive\nfrom IPython.display import display\n\nl = playersStatsFactorizedByGamesGrouped['Status']\nchk = [Checkbox(description=a) for a in l]\n\ndef updatePlot(**k):\n    #print(k)\n    teamsToShow = []\n    for key in k.keys():\n        if k[key] is True:\n            teamsToShow.append(key)\n    if len(teamsToShow) == 0:\n        return\n    print(teamsToShow)\n    fig=plt.figure(figsize=(12, 10))\n    labels=np.array(playersStatsFactorizedByGamesGrouped.columns[1:])\n    ax = fig.add_subplot(111, polar=True)\n    ax.set_title(\"Compare\")\n    angles=np.linspace(0, 2*np.pi, len(labels), endpoint=False)\n    angles=np.concatenate((angles,[angles[0]]))\n    ax.set_thetagrids(angles * 180/np.pi, labels)\n    i=0\n    for team in teamsToShow:\n        color='C'+str(i)\n        stats=playersStatsFactorizedByGamesGrouped[playersStatsFactorizedByGamesGrouped['Status']==team][labels].values[0]\n        #print(stats)\n        # close the plot\n        stats=np.concatenate((stats,[stats[0]]))\n        \n        #ax = fig.add_subplot(111, polar=True)\n        ax.plot(angles, stats, 'o-', linewidth=2, label=team)\n        ax.fill(angles, stats, alpha=0.25, color=color)\n        #ax.set_thetagrids(angles * 180/np.pi, labels)\n        #ax.set_title([name], color=color)\n        #ax.grid(True)\n        i+=1\n    legend = ax.legend(loc=1)\n\ninteract(updatePlot, **{c.description: c.value for c in chk})\n",
      "execution_count": null,
      "outputs": []
    },
    {
      "metadata": {
        "trusted": true,
        "_uuid": "1c53f817b8e2d74919a36d8f4c79e16753afe1bf"
      },
      "cell_type": "code",
      "source": "from ipywidgets import interact, interactive, fixed, interact_manual\nimport ipywidgets as widgets\ndef f(x):\n    return x\n\nimport seaborn as sns\nimport matplotlib.pyplot as plt\n\nfrom ipywidgets import Checkbox, interactive\nfrom IPython.display import display\n\nl = playersGrouped['Status']\nchk = [Checkbox(description=a) for a in l]\n\ndef updatePlot(**k):\n    #print(k)\n    teamsToShow = []\n    for key in k.keys():\n        if k[key] is True:\n            teamsToShow.append(key)\n    if len(teamsToShow) == 0:\n        return\n    print(teamsToShow)\n    fig=plt.figure(figsize=(12, 10))\n    labels=np.array(playersGrouped.columns[1:])\n    ax = fig.add_subplot(111, polar=True)\n    ax.set_title(\"Compare\")\n    i=0\n    for team in teamsToShow:\n        color='C'+str(i)\n        stats=playersGroupedNorm[playersGroupedNorm['Status']==team][labels].values[0]\n        #print(stats)\n        angles=np.linspace(0, 2*np.pi, len(labels), endpoint=False)\n        # close the plot\n        stats=np.concatenate((stats,[stats[0]]))\n        angles=np.concatenate((angles,[angles[0]]))\n\n        ax = fig.add_subplot(111, polar=True)\n        ax.plot(angles, stats, 'o-', linewidth=2, label=team)\n        ax.fill(angles, stats, alpha=0.25, color=color)\n        ax.set_thetagrids(angles * 180/np.pi, labels)\n        #ax.set_title([name], color=color)\n        ax.grid(True)\n        i+=1\n    legend = ax.legend(loc=1)\n\ninteract(updatePlot, **{c.description: c.value for c in chk})\n",
      "execution_count": null,
      "outputs": []
    },
    {
      "metadata": {
        "trusted": true,
        "_uuid": "e2e13f3864551f2bc1cb73ccb04637f844120bb3"
      },
      "cell_type": "code",
      "source": "",
      "execution_count": null,
      "outputs": []
    },
    {
      "metadata": {
        "trusted": true,
        "_uuid": "13d407a681d0e16b23df209704643684cc2f97c8"
      },
      "cell_type": "code",
      "source": "",
      "execution_count": null,
      "outputs": []
    },
    {
      "metadata": {
        "trusted": true,
        "_uuid": "e8d6c75710422abfdadd1a631b977f1d50be8f0c"
      },
      "cell_type": "code",
      "source": "",
      "execution_count": null,
      "outputs": []
    }
  ],
  "metadata": {
    "kernelspec": {
      "display_name": "Python 3",
      "language": "python",
      "name": "python3"
    },
    "language_info": {
      "name": "python",
      "version": "3.6.6",
      "mimetype": "text/x-python",
      "codemirror_mode": {
        "name": "ipython",
        "version": 3
      },
      "pygments_lexer": "ipython3",
      "nbconvert_exporter": "python",
      "file_extension": ".py"
    }
  },
  "nbformat": 4,
  "nbformat_minor": 1
}