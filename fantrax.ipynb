{
  "cells": [
    {
      "metadata": {
        "_uuid": "8f2839f25d086af736a60e9eeb907d3b93b6e0e5",
        "_cell_guid": "b1076dfc-b9ad-4769-8c92-a6c4dae69d19",
        "trusted": true
      },
      "cell_type": "code",
      "source": "# This Python 3 environment comes with many helpful analytics libraries installed\n# It is defined by the kaggle/python docker image: https://github.com/kaggle/docker-python\n# For example, here's several helpful packages to load in \n\nimport numpy as np # linear algebra\nimport pandas as pd # data processing, CSV file I/O (e.g. pd.read_csv)\n\n# Input data files are available in the \"../input/\" directory.\n# For example, running this (by clicking run or pressing Shift+Enter) will list the files in the input directory\n\nimport os\nprint(os.listdir(\"../input\"))\n\n# Any results you write to the current directory are saved as output.",
      "execution_count": 26,
      "outputs": [
        {
          "output_type": "stream",
          "text": "['Fantrax-players.csv']\n",
          "name": "stdout"
        }
      ]
    },
    {
      "metadata": {
        "_cell_guid": "79c7e3d0-c299-4dcb-8224-4455121ee9b0",
        "_uuid": "d629ff2d2480ee46fbb7e2d37f6b5fab8052498a",
        "trusted": true
      },
      "cell_type": "code",
      "source": "players = pd.read_csv('../input/Fantrax-players.csv')",
      "execution_count": 35,
      "outputs": []
    },
    {
      "metadata": {
        "trusted": true,
        "_uuid": "942e01051df4b81ac36243adffef6b339bc135a0"
      },
      "cell_type": "code",
      "source": "playersGrouped = players[players['Status']!='FA'].groupby(by='Status',as_index=False).mean()\nplayersGrouped.drop(['Rk','GP'], axis=1,inplace=True)\nlabels = playersGrouped.columns[1:]",
      "execution_count": 36,
      "outputs": []
    },
    {
      "metadata": {
        "trusted": true,
        "_uuid": "312acb111c7dd59b0fdf0315e2b4a07f379f9c16"
      },
      "cell_type": "code",
      "source": "playersGroupedNorm = playersGrouped.copy()\nfor label in labels:\n    if label.endswith('%'):\n        continue\n    playersGroupedNorm[label]-=playersGroupedNorm[label].min()\n    playersGroupedNorm[label]/=playersGroupedNorm[label].max()\n    if label == 'TO':\n        playersGroupedNorm[label]=1-playersGroupedNorm[label]\nplayersGroupedNorm.describe()",
      "execution_count": 37,
      "outputs": [
        {
          "output_type": "execute_result",
          "execution_count": 37,
          "data": {
            "text/plain": "           Score        FG%    ...            BLK         TO\ncount  12.000000  12.000000    ...      12.000000  12.000000\nmean    0.580756   0.466679    ...       0.629564   0.577887\nstd     0.252566   0.013600    ...       0.267500   0.286106\nmin     0.000000   0.444692    ...       0.000000   0.000000\n25%     0.457888   0.457904    ...       0.517781   0.460236\n50%     0.627537   0.466868    ...       0.658606   0.595276\n75%     0.717115   0.472526    ...       0.806543   0.722047\nmax     1.000000   0.498538    ...       1.000000   1.000000\n\n[8 rows x 10 columns]",
            "text/html": "<div>\n<style scoped>\n    .dataframe tbody tr th:only-of-type {\n        vertical-align: middle;\n    }\n\n    .dataframe tbody tr th {\n        vertical-align: top;\n    }\n\n    .dataframe thead th {\n        text-align: right;\n    }\n</style>\n<table border=\"1\" class=\"dataframe\">\n  <thead>\n    <tr style=\"text-align: right;\">\n      <th></th>\n      <th>Score</th>\n      <th>FG%</th>\n      <th>3PTM</th>\n      <th>FT%</th>\n      <th>PTS</th>\n      <th>REB</th>\n      <th>AST</th>\n      <th>ST</th>\n      <th>BLK</th>\n      <th>TO</th>\n    </tr>\n  </thead>\n  <tbody>\n    <tr>\n      <th>count</th>\n      <td>12.000000</td>\n      <td>12.000000</td>\n      <td>12.000000</td>\n      <td>12.000000</td>\n      <td>12.000000</td>\n      <td>12.000000</td>\n      <td>12.000000</td>\n      <td>12.000000</td>\n      <td>12.000000</td>\n      <td>12.000000</td>\n    </tr>\n    <tr>\n      <th>mean</th>\n      <td>0.580756</td>\n      <td>0.466679</td>\n      <td>0.414997</td>\n      <td>0.775666</td>\n      <td>0.679267</td>\n      <td>0.446902</td>\n      <td>0.350684</td>\n      <td>0.525112</td>\n      <td>0.629564</td>\n      <td>0.577887</td>\n    </tr>\n    <tr>\n      <th>std</th>\n      <td>0.252566</td>\n      <td>0.013600</td>\n      <td>0.291510</td>\n      <td>0.020145</td>\n      <td>0.288768</td>\n      <td>0.289050</td>\n      <td>0.299243</td>\n      <td>0.306043</td>\n      <td>0.267500</td>\n      <td>0.286106</td>\n    </tr>\n    <tr>\n      <th>min</th>\n      <td>0.000000</td>\n      <td>0.444692</td>\n      <td>0.000000</td>\n      <td>0.749077</td>\n      <td>0.000000</td>\n      <td>0.000000</td>\n      <td>0.000000</td>\n      <td>0.000000</td>\n      <td>0.000000</td>\n      <td>0.000000</td>\n    </tr>\n    <tr>\n      <th>25%</th>\n      <td>0.457888</td>\n      <td>0.457904</td>\n      <td>0.201220</td>\n      <td>0.758212</td>\n      <td>0.610432</td>\n      <td>0.252488</td>\n      <td>0.153557</td>\n      <td>0.302455</td>\n      <td>0.517781</td>\n      <td>0.460236</td>\n    </tr>\n    <tr>\n      <th>50%</th>\n      <td>0.627537</td>\n      <td>0.466868</td>\n      <td>0.402003</td>\n      <td>0.776654</td>\n      <td>0.713272</td>\n      <td>0.405295</td>\n      <td>0.299595</td>\n      <td>0.546875</td>\n      <td>0.658606</td>\n      <td>0.595276</td>\n    </tr>\n    <tr>\n      <th>75%</th>\n      <td>0.717115</td>\n      <td>0.472526</td>\n      <td>0.591463</td>\n      <td>0.788547</td>\n      <td>0.892374</td>\n      <td>0.656716</td>\n      <td>0.523279</td>\n      <td>0.703125</td>\n      <td>0.806543</td>\n      <td>0.722047</td>\n    </tr>\n    <tr>\n      <th>max</th>\n      <td>1.000000</td>\n      <td>0.498538</td>\n      <td>1.000000</td>\n      <td>0.811286</td>\n      <td>1.000000</td>\n      <td>1.000000</td>\n      <td>1.000000</td>\n      <td>1.000000</td>\n      <td>1.000000</td>\n      <td>1.000000</td>\n    </tr>\n  </tbody>\n</table>\n</div>"
          },
          "metadata": {}
        }
      ]
    },
    {
      "metadata": {
        "trusted": true,
        "_uuid": "1c53f817b8e2d74919a36d8f4c79e16753afe1bf"
      },
      "cell_type": "code",
      "source": "from ipywidgets import interact, interactive, fixed, interact_manual\nimport ipywidgets as widgets\ndef f(x):\n    return x\n\nimport seaborn as sns\nimport matplotlib.pyplot as plt\n\nfrom ipywidgets import Checkbox, interactive\nfrom IPython.display import display\n\nl = playersGrouped['Status']\nchk = [Checkbox(description=a) for a in l]\n\ndef updatePlot(**k):\n    #print(k)\n    teamsToShow = []\n    for key in k.keys():\n        if k[key] is True:\n            teamsToShow.append(key)\n    if len(teamsToShow) == 0:\n        return\n    print(teamsToShow)\n    fig=plt.figure(figsize=(12, 10))\n    labels=np.array(playersGrouped.columns[1:])\n    ax = fig.add_subplot(111, polar=True)\n    ax.set_title(\"Compare\")\n    i=0\n    for team in teamsToShow:\n        color='C'+str(i)\n        stats=playersGroupedNorm[playersGroupedNorm['Status']==team][labels].values[0]\n        #print(stats)\n        angles=np.linspace(0, 2*np.pi, len(labels), endpoint=False)\n        # close the plot\n        stats=np.concatenate((stats,[stats[0]]))\n        angles=np.concatenate((angles,[angles[0]]))\n\n        ax = fig.add_subplot(111, polar=True)\n        ax.plot(angles, stats, 'o-', linewidth=2, label=team)\n        ax.fill(angles, stats, alpha=0.25, color=color)\n        ax.set_thetagrids(angles * 180/np.pi, labels)\n        #ax.set_title([name], color=color)\n        ax.grid(True)\n        i+=1\n    legend = ax.legend(loc=1)\n\ninteract(updatePlot, **{c.description: c.value for c in chk})\n",
      "execution_count": 38,
      "outputs": [
        {
          "output_type": "display_data",
          "data": {
            "text/plain": "interactive(children=(Checkbox(value=False, description='GFv'), Checkbox(value=False, description='GREEN'), Ch…",
            "application/vnd.jupyter.widget-view+json": {
              "version_major": 2,
              "version_minor": 0,
              "model_id": "72f5a9e1fca640f09b8ce20b19058ce8"
            }
          },
          "metadata": {}
        },
        {
          "output_type": "execute_result",
          "execution_count": 38,
          "data": {
            "text/plain": "<function __main__.updatePlot(**k)>"
          },
          "metadata": {}
        }
      ]
    },
    {
      "metadata": {
        "trusted": true,
        "_uuid": "e2e13f3864551f2bc1cb73ccb04637f844120bb3"
      },
      "cell_type": "code",
      "source": "",
      "execution_count": null,
      "outputs": []
    },
    {
      "metadata": {
        "trusted": true,
        "_uuid": "13d407a681d0e16b23df209704643684cc2f97c8"
      },
      "cell_type": "code",
      "source": "",
      "execution_count": null,
      "outputs": []
    },
    {
      "metadata": {
        "trusted": true,
        "_uuid": "e8d6c75710422abfdadd1a631b977f1d50be8f0c"
      },
      "cell_type": "code",
      "source": "",
      "execution_count": null,
      "outputs": []
    }
  ],
  "metadata": {
    "kernelspec": {
      "display_name": "Python 3",
      "language": "python",
      "name": "python3"
    },
    "language_info": {
      "name": "python",
      "version": "3.6.6",
      "mimetype": "text/x-python",
      "codemirror_mode": {
        "name": "ipython",
        "version": 3
      },
      "pygments_lexer": "ipython3",
      "nbconvert_exporter": "python",
      "file_extension": ".py"
    }
  },
  "nbformat": 4,
  "nbformat_minor": 1
}